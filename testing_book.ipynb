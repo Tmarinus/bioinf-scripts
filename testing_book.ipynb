{
 "cells": [
  {
   "cell_type": "code",
   "execution_count": 28,
   "metadata": {
    "collapsed": true
   },
   "outputs": [],
   "source": [
    "import pysam\n",
    "from Bio import SeqIO\n",
    "from collections import defaultdict\n",
    "import numpy as np\n",
    "import json\n",
    "import pandas as pd"
   ]
  },
  {
   "cell_type": "code",
   "execution_count": 3,
   "outputs": [
    {
     "name": "stderr",
     "output_type": "stream",
     "text": [
      "No handles with labels found to put in legend.\n"
     ]
    },
    {
     "data": {
      "text/plain": "<Figure size 640x480 with 1 Axes>",
      "image/png": "[encoded data removed]"
     },
     "metadata": {},
     "output_type": "display_data"
    }
   ],
   "source": [
    "import matplotlib.pyplot as plt\n",
    "plt.figure()\n",
    "plt.xlabel(r'$\\AA$')\n",
    "plt.legend()\n",
    "plt.show()"
   ],
   "metadata": {
    "collapsed": false,
    "pycharm": {
     "name": "#%%\n"
    }
   }
  },
  {
   "cell_type": "code",
   "execution_count": 31,
   "outputs": [
    {
     "name": "stdout",
     "output_type": "stream",
     "text": [
      "14692 122074 12.03532283696774\n"
     ]
    }
   ],
   "source": [
    "1\n",
    "cnt = 0\n",
    "count_close = 0\n",
    "# samfile = pysam.AlignmentFile('/home/dwarrel/projects/data_testing/sonja/sonja_HMK_data/sonja_new_dataset/fastq_join/test/bars-lib1-3.sam')\n",
    "samfile = pysam.AlignmentFile('/home/dwarrel/projects/data_testing/sonja/sonja_HMK_data/sonja_old_dataset/fastq_join/test2/all_KSNGS.sam')\n",
    "for read in samfile:\n",
    "    if read.is_unmapped: continue\n",
    "    # print(read)\n",
    "    # print(read.query_name.split('_')[:-1])\n",
    "    for barcode in read.query_name.split('_')[:-1]:\n",
    "        # print(barcode.split(':')[1:])\n",
    "        for bar_poss in barcode.split(':')[1:]:\n",
    "            for bar_pos in bar_poss.split(','):\n",
    "                # print(bar_pos)\n",
    "                if len(read.cigartuples) > 1 and 2 in read.cigartuples[1]:\n",
    "                    if abs(int(bar_pos)-read.cigartuples[0][1]) < 5:\n",
    "                        # print(read)\n",
    "                        # print(read.cigartuples, bar_pos)\n",
    "                        count_close += 1\n",
    "    cnt += 1\n",
    "print(count_close, cnt, (count_close/cnt)*100)"
   ],
   "metadata": {
    "collapsed": false,
    "pycharm": {
     "name": "#%%\n"
    }
   }
  },
  {
   "cell_type": "code",
   "execution_count": 33,
   "outputs": [
    {
     "name": "stdout",
     "output_type": "stream",
     "text": [
      "14719 220252 6.682799702159345\n"
     ]
    }
   ],
   "source": [
    "cnt = 0\n",
    "count_close = 0\n",
    "samfile = pysam.AlignmentFile('/home/dwarrel/projects/data_testing/sonja/sonja_HMK_data/sonja_new_dataset/fastq_join/test2/all_lib4-6.sam')\n",
    "# samfile = pysam.AlignmentFile('/home/dwarrel/projects/data_testing/sonja/sonja_HMK_data/sonja_old_dataset/fastq_join/test/all-KSNGS.sam')\n",
    "for read in samfile:\n",
    "    if read.is_unmapped: continue\n",
    "    # print(read)\n",
    "    # print(read.query_name.split('_')[:-1])\n",
    "    for barcode in read.query_name.split('_')[:-1]:\n",
    "        # print(barcode.split(':')[1:])\n",
    "        for bar_poss in barcode.split(':')[1:]:\n",
    "            for bar_pos in bar_poss.split(','):\n",
    "                # print(bar_pos)\n",
    "                if len(read.cigartuples) > 1 and 2 in read.cigartuples[1]:\n",
    "                    if abs(int(bar_pos)-read.cigartuples[0][1]) < 5:\n",
    "                        # print(read)\n",
    "                        # print(read.cigartuples, bar_pos)\n",
    "                        count_close += 1\n",
    "    cnt += 1\n",
    "print(count_close, cnt, (count_close/cnt)*100)"
   ],
   "metadata": {
    "collapsed": false,
    "pycharm": {
     "name": "#%%\n"
    }
   }
  },
  {
   "cell_type": "code",
   "execution_count": 10,
   "outputs": [],
   "source": [
    "insert_bio = 0\n",
    "insert_seq = 0\n",
    "out_bio = 0\n",
    "out_seq = 0\n",
    "ins_ranges = [range(4867, 4956), range(4957, 5046), range(5047, 5133)]\n",
    "file_p = '/home/dwarrel/projects/data_testing/sonja/sonja_HMK_data/sonja_old_dataset/fastq_join/test/variant/mutation_lines.txt'\n",
    "tot = 0\n",
    "with open(file_p, 'r') as file:\n",
    "    file.readline()\n",
    "    current_read = None\n",
    "    curr_bar_positions = []\n",
    "    for line in file:\n",
    "        tot += 1\n",
    "        splits = line.split()\n",
    "        type_s = splits[-1]\n",
    "        if type_s.upper() != 'M': continue\n",
    "        # print(splits)\n",
    "        name = splits[0]\n",
    "        pos = int(splits[-3])\n",
    "        if name != current_read:\n",
    "            current_read = name\n",
    "            curr_bar_positions = []\n",
    "            for barcode in name.split('_')[:-1]:\n",
    "                barcode_id, bar_positions = barcode.split(':')\n",
    "                for bar_pos in bar_positions.split(','):\n",
    "                    curr_bar_positions.append(int(bar_pos))\n",
    "            active_ranges = []\n",
    "            for p in curr_bar_positions:\n",
    "                for r in ins_ranges:\n",
    "                    if p+pos in r:\n",
    "                        active_ranges += list(r)\n",
    "            # active_ranges = [x if ]\n",
    "        ref = splits[-2]\n",
    "        read = splits[-5]\n",
    "        quality = splits[-4]\n",
    "        if ref.upper() != read.upper():\n",
    "            if pos in active_ranges:\n",
    "                if quality == 'F':\n",
    "                    out_bio += 1\n",
    "                else:\n",
    "                    out_seq += 1\n",
    "            else:\n",
    "                if quality == 'F':\n",
    "                    insert_bio += 1\n",
    "                else:\n",
    "                    insert_seq += 1\n",
    "        # break"
   ],
   "metadata": {
    "collapsed": false,
    "pycharm": {
     "name": "#%%\n"
    }
   }
  },
  {
   "cell_type": "code",
   "execution_count": 26,
   "outputs": [
    {
     "name": "stdout",
     "output_type": "stream",
     "text": [
      "Total nucleotides: 41,472,611, total mutations 164,573\n",
      "Inserted region: 136,610 83.0%, wild region: 27,963 17.0%\n",
      "\n",
      "Total mut in inserted regions\n",
      "Biomut: 122,092 89.4% Seq_err: 14,518 10.6%\n",
      "\n",
      "Total mut in wildtype regions\n",
      "Biomut: 23,506 84.1% Seq_err: 4,457 15.9%\n"
     ]
    }
   ],
   "source": [
    "tot_mut = insert_seq+insert_bio+out_bio+out_seq\n",
    "print(f\"Total nucleotides: {tot:,}, total mutations {tot_mut:,}\\n\"\n",
    "      f\"Inserted region: {insert_bio+insert_seq:,} {((insert_bio+insert_seq)/tot_mut)*100:.1f}%, \"\n",
    "      f\"wild region: {out_seq+out_bio:,} {((out_bio+out_seq)/tot_mut)*100:.1f}%\\n\\n\"\n",
    "      f\"Total mut in inserted regions\\nBiomut: {insert_bio:,} {(insert_bio/(insert_bio+insert_seq))*100:.1f}% \"\n",
    "      f\"Seq_err: {insert_seq:,} {(insert_seq/(insert_bio+insert_seq))*100:.1f}%\\n\\n\"\n",
    "      f\"Total mut in wildtype regions\\nBiomut: {out_bio:,} {(out_bio/(out_bio+out_seq))*100:.1f}% \"\n",
    "      f\"Seq_err: {out_seq:,} {(out_seq/(out_bio+out_seq))*100:.1f}%\")"
   ],
   "metadata": {
    "collapsed": false,
    "pycharm": {
     "name": "#%%\n"
    }
   }
  }
 ],
 "metadata": {
  "kernelspec": {
   "display_name": "Python 3",
   "language": "python",
   "name": "python3"
  },
  "language_info": {
   "codemirror_mode": {
    "name": "ipython",
    "version": 2
   },
   "file_extension": ".py",
   "mimetype": "text/x-python",
   "name": "python",
   "nbconvert_exporter": "python",
   "pygments_lexer": "ipython2",
   "version": "2.7.6"
  }
 },
 "nbformat": 4,
 "nbformat_minor": 0
}